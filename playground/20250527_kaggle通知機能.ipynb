{
 "cells": [
  {
   "cell_type": "code",
   "execution_count": null,
   "id": "7b384d22",
   "metadata": {},
   "outputs": [
    {
     "data": {
      "text/plain": [
       "True"
      ]
     },
     "execution_count": 7,
     "metadata": {},
     "output_type": "execute_result"
    }
   ],
   "source": [
    "from kaggle.api.kaggle_api_extended import KaggleApi\n",
    "from line_bot.util.translate import translate_text\n",
    "from dotenv import load_dotenv\n",
    "load_dotenv()"
   ]
  },
  {
   "cell_type": "code",
   "execution_count": null,
   "id": "6c7f9d12",
   "metadata": {},
   "outputs": [],
   "source": [
    "api = KaggleApi()\n",
    "api.authenticate()"
   ]
  },
  {
   "cell_type": "code",
   "execution_count": null,
   "id": "1998002f",
   "metadata": {},
   "outputs": [
    {
     "name": "stdout",
     "output_type": "stream",
     "text": [
      "Competition: LLM Classification Finetuning\n",
      "Deadline: 2030-07-01 23:59:00\n",
      "Description: Finetune LLMs to Predict Human Preference using Chatbot Arena conversations...\n",
      "URL: https://www.kaggle.com/c/https://www.kaggle.com/competitions/llm-classification-finetuning\n",
      "\n",
      "Competition: I’m Something of a Painter Myself\n",
      "Deadline: 2030-07-01 23:59:00\n",
      "Description: Use GANs to create art - will you be the next Monet?...\n",
      "URL: https://www.kaggle.com/c/https://www.kaggle.com/competitions/gan-getting-started\n",
      "\n",
      "Competition: Contradictory, My Dear Watson\n",
      "Deadline: 2030-07-01 23:59:00\n",
      "Description: Detecting contradiction and entailment in multilingual text using TPUs...\n",
      "URL: https://www.kaggle.com/c/https://www.kaggle.com/competitions/contradictory-my-dear-watson\n",
      "\n",
      "Competition: Store Sales - Time Series Forecasting\n",
      "Deadline: 2030-06-30 23:59:00\n",
      "Description: Use machine learning to predict grocery sales...\n",
      "URL: https://www.kaggle.com/c/https://www.kaggle.com/competitions/store-sales-time-series-forecasting\n",
      "\n",
      "Competition: Petals to the Metal - Flower Classification on TPU\n",
      "Deadline: 2030-06-03 23:59:00\n",
      "Description: Getting Started with TPUs on Kaggle!...\n",
      "URL: https://www.kaggle.com/c/https://www.kaggle.com/competitions/tpu-getting-started\n",
      "\n",
      "Competition: Housing Prices Competition for Kaggle Learn Users\n",
      "Deadline: 2030-01-01 23:59:00\n",
      "Description: Apply what you learned in the Machine Learning course on Kaggle Learn alongside others in the course...\n",
      "URL: https://www.kaggle.com/c/https://www.kaggle.com/competitions/home-data-for-ml-course\n",
      "\n",
      "Competition: Spaceship Titanic\n",
      "Deadline: 2030-01-01 00:00:00\n",
      "Description: Predict which passengers are transported to an alternate dimension...\n",
      "URL: https://www.kaggle.com/c/https://www.kaggle.com/competitions/spaceship-titanic\n",
      "\n",
      "Competition: Natural Language Processing with Disaster Tweets\n",
      "Deadline: 2030-01-01 00:00:00\n",
      "Description: Predict which Tweets are about real disasters and which ones are not...\n",
      "URL: https://www.kaggle.com/c/https://www.kaggle.com/competitions/nlp-getting-started\n",
      "\n",
      "Competition: Connect X\n",
      "Deadline: 2030-01-01 00:00:00\n",
      "Description: Connect your checkers in a row before your opponent!...\n",
      "URL: https://www.kaggle.com/c/https://www.kaggle.com/competitions/connectx\n",
      "\n",
      "Competition: House Prices - Advanced Regression Techniques\n",
      "Deadline: 2030-01-01 00:00:00\n",
      "Description: Predict sales prices and practice feature engineering, RFs, and gradient boosting...\n",
      "URL: https://www.kaggle.com/c/https://www.kaggle.com/competitions/house-prices-advanced-regression-techniques\n",
      "\n",
      "Competition: Titanic - Machine Learning from Disaster\n",
      "Deadline: 2030-01-01 00:00:00\n",
      "Description: Start here! Predict survival on the Titanic and get familiar with ML basics...\n",
      "URL: https://www.kaggle.com/c/https://www.kaggle.com/competitions/titanic\n",
      "\n",
      "Competition: Digit Recognizer\n",
      "Deadline: 2030-01-01 00:00:00\n",
      "Description: Learn computer vision fundamentals with the famous MNIST data...\n",
      "URL: https://www.kaggle.com/c/https://www.kaggle.com/competitions/digit-recognizer\n",
      "\n",
      "Competition: ARC Prize 2025\n",
      "Deadline: 2025-11-03 23:59:00\n",
      "Description: Create an AI capable of novel reasoning...\n",
      "URL: https://www.kaggle.com/c/https://www.kaggle.com/competitions/arc-prize-2025\n",
      "\n",
      "Competition: Jane Street Real-Time Market Data Forecasting\n",
      "Deadline: 2025-07-12 23:59:00\n",
      "Description: Predict financial market responders using real-world data....\n",
      "URL: https://www.kaggle.com/c/https://www.kaggle.com/competitions/jane-street-real-time-market-data-forecasting\n",
      "\n",
      "Competition:  Yale/UNC-CH - Geophysical Waveform Inversion\n",
      "Deadline: 2025-06-30 23:59:00\n",
      "Description: Develop physics-guided machine learning models to solve full-waveform inversion problems...\n",
      "URL: https://www.kaggle.com/c/https://www.kaggle.com/competitions/waveform-inversion\n",
      "\n",
      "Competition: OpenAI to Z Challenge\n",
      "Deadline: 2025-06-29 23:59:00\n",
      "Description: Use OpenAI o3/o4 mini and GPT 4.1 models to discover previously unknown archaeological sites...\n",
      "URL: https://www.kaggle.com/c/https://www.kaggle.com/competitions/openai-to-z-challenge\n",
      "\n",
      "Competition: Konwinski Prize\n",
      "Deadline: 2025-06-11 23:59:00\n",
      "Description: $1M for the AI that can close 90% of new GitHub issues...\n",
      "URL: https://www.kaggle.com/c/https://www.kaggle.com/competitions/konwinski-prize\n",
      "\n",
      "Competition: BirdCLEF+ 2025\n",
      "Deadline: 2025-06-05 23:59:00\n",
      "Description: Species identification from audio, focused on birds, amphibians, mammals and insects from the Middle...\n",
      "URL: https://www.kaggle.com/c/https://www.kaggle.com/competitions/birdclef-2025\n",
      "\n",
      "Competition: BYU - Locating Bacterial Flagellar Motors 2025\n",
      "Deadline: 2025-06-04 23:59:00\n",
      "Description: Help locate flagellar motors in three-dimensional reconstructions of bacteria....\n",
      "URL: https://www.kaggle.com/c/https://www.kaggle.com/competitions/byu-locating-bacterial-flagellar-motors-2025\n",
      "\n",
      "Competition: Image Matching Challenge 2025\n",
      "Deadline: 2025-06-02 23:59:00\n",
      "Description: Reconstruct 3D scenes from messy image collections....\n",
      "URL: https://www.kaggle.com/c/https://www.kaggle.com/competitions/image-matching-challenge-2025\n",
      "\n"
     ]
    }
   ],
   "source": [
    "competitions = api.competitions_list(sort_by='latestDeadline')\n",
    "for comp in competitions:\n",
    "    print(f\"コンペ: {comp.title}\")\n",
    "    print(f\"締め切り: {comp.deadline}\")\n",
    "    print(f\"URL: https://www.kaggle.com/c/{comp.ref}\\n\")\n",
    "    print(f\"説明: {comp.description[:100]}...\")  # Print first 100 characters of description"
   ]
  },
  {
   "cell_type": "code",
   "execution_count": null,
   "id": "77850f54",
   "metadata": {},
   "outputs": [],
   "source": []
  }
 ],
 "metadata": {
  "kernelspec": {
   "display_name": "line-bot-Y9Rvxk1P-py3.11",
   "language": "python",
   "name": "python3"
  },
  "language_info": {
   "codemirror_mode": {
    "name": "ipython",
    "version": 3
   },
   "file_extension": ".py",
   "mimetype": "text/x-python",
   "name": "python",
   "nbconvert_exporter": "python",
   "pygments_lexer": "ipython3",
   "version": "3.11.6"
  }
 },
 "nbformat": 4,
 "nbformat_minor": 5
}

{
 "cells": [
  {
   "cell_type": "code",
   "execution_count": 18,
   "id": "fa1c5f65",
   "metadata": {},
   "outputs": [
    {
     "name": "stdout",
     "output_type": "stream",
     "text": [
      "[('【天文月報2025/06】XRISM News 3  Observation Results Part 2', 'https://www.youtube.com/watch?v=B4xVNXBZ__o'), ('【arXiv】アインシュタイン望遠鏡による中性子星の合体率の推定', 'https://www.youtube.com/watch?v=NOVe7S7TOYI')]\n"
     ]
    }
   ],
   "source": [
    "import os\n",
    "import requests\n",
    "from dotenv import load_dotenv\n",
    "\n",
    "load_dotenv()\n",
    "\n",
    "PLAYLIST_ID = os.getenv(\"PLAYLIST_ID\")\n",
    "API_KEY = os.getenv(\"YOUTUBE_API_KEY\")\n",
    "\n",
    "\n",
    "def get_playlist_videos(api_key, playlist_id):\n",
    "    url = \"https://www.googleapis.com/youtube/v3/playlistItems\"\n",
    "    videos = []\n",
    "    next_page_token = \"\"\n",
    "\n",
    "    while True:\n",
    "        params = {\n",
    "            \"part\": \"snippet\",\n",
    "            \"playlistId\": playlist_id,\n",
    "            \"maxResults\": 50,\n",
    "            \"key\": api_key,\n",
    "            \"pageToken\": next_page_token,\n",
    "        }\n",
    "\n",
    "        res = requests.get(url, params=params)\n",
    "        res.raise_for_status()\n",
    "        data = res.json()\n",
    "\n",
    "        for item in data[\"items\"]:\n",
    "            snippet = item[\"snippet\"]\n",
    "            video_id = snippet[\"resourceId\"][\"videoId\"]\n",
    "            title = snippet[\"title\"]\n",
    "            video_url = f\"https://www.youtube.com/watch?v={video_id}\"\n",
    "            videos.append((title, video_url))\n",
    "\n",
    "        next_page_token = data.get(\"nextPageToken\")\n",
    "        if not next_page_token:\n",
    "            break\n",
    "\n",
    "    return videos\n",
    "\n",
    "\n",
    "print(get_playlist_videos(API_KEY, playlist_id=PLAYLIST_ID))"
   ]
  },
  {
   "cell_type": "code",
   "execution_count": 16,
   "id": "1668e508",
   "metadata": {},
   "outputs": [],
   "source": [
    "import json\n",
    "from pathlib import Path\n",
    "\n",
    "\n",
    "def load_sent_log(filepath: str) -> set[str]:\n",
    "    path = Path(filepath)\n",
    "    if not path.exists() or path.stat().st_size == 0:\n",
    "        return set()\n",
    "    with open(filepath, \"r\", encoding=\"utf-8\") as f:\n",
    "        return set(json.load(f))\n",
    "\n",
    "\n",
    "def save_sent_log(sent_set: set[str], filepath: str):\n",
    "    with open(filepath, \"w\", encoding=\"utf-8\") as f:\n",
    "        json.dump(list(sent_set), f, indent=2, ensure_ascii=False)\n",
    "\n",
    "\n",
    "def get_next_unsent_video(\n",
    "    all_videos: list[tuple[str, str]], sent_urls: set[str]\n",
    ") -> tuple[str, str] | None:\n",
    "    for title, url in all_videos:\n",
    "        if url not in sent_urls:\n",
    "            return (title, url)\n",
    "    return None"
   ]
  },
  {
   "cell_type": "code",
   "execution_count": 17,
   "id": "24a50bf2",
   "metadata": {},
   "outputs": [
    {
     "name": "stdout",
     "output_type": "stream",
     "text": [
      "送信対象: 【天文月報2025/06】XRISM News 3  Observation Results Part 2 - https://www.youtube.com/watch?v=B4xVNXBZ__o\n"
     ]
    }
   ],
   "source": [
    "all_videos = get_playlist_videos(API_KEY, PLAYLIST_ID)\n",
    "sent_urls = load_sent_log(\"./sent_videos.json\")\n",
    "\n",
    "next_video = get_next_unsent_video(all_videos, sent_urls)\n",
    "if next_video:\n",
    "    title, url = next_video\n",
    "    print(f\"送信対象: {title} - {url}\")\n",
    "\n",
    "    # ↓ LINE送信処理をここに入れる\n",
    "\n",
    "    sent_urls.add(url)\n",
    "    save_sent_log(sent_urls, \"sent_videos.json\")\n",
    "else:\n",
    "    print(\"すべての動画はすでに送信済みです。\")"
   ]
  },
  {
   "cell_type": "code",
   "execution_count": null,
   "id": "5f4332cb",
   "metadata": {},
   "outputs": [],
   "source": []
  }
 ],
 "metadata": {
  "kernelspec": {
   "display_name": "line-bot-qJSpa360-py3.12",
   "language": "python",
   "name": "python3"
  },
  "language_info": {
   "codemirror_mode": {
    "name": "ipython",
    "version": 3
   },
   "file_extension": ".py",
   "mimetype": "text/x-python",
   "name": "python",
   "nbconvert_exporter": "python",
   "pygments_lexer": "ipython3",
   "version": "3.12.10"
  }
 },
 "nbformat": 4,
 "nbformat_minor": 5
}
